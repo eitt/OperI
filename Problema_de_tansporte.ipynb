{
  "nbformat": 4,
  "nbformat_minor": 0,
  "metadata": {
    "colab": {
      "name": "Problema de tansporte.ipynb",
      "provenance": [],
      "include_colab_link": true
    },
    "kernelspec": {
      "name": "python3",
      "display_name": "Python 3"
    }
  },
  "cells": [
    {
      "cell_type": "markdown",
      "metadata": {
        "id": "view-in-github",
        "colab_type": "text"
      },
      "source": [
        "<a href=\"https://colab.research.google.com/github/eitt/OperI/blob/master/Problema_de_tansporte.ipynb\" target=\"_parent\"><img src=\"https://colab.research.google.com/assets/colab-badge.svg\" alt=\"Open In Colab\"/></a>"
      ]
    },
    {
      "cell_type": "code",
      "metadata": {
        "id": "z5pozVf2APqY",
        "colab_type": "code",
        "colab": {}
      },
      "source": [
        ""
      ],
      "execution_count": 0,
      "outputs": []
    },
    {
      "cell_type": "markdown",
      "metadata": {
        "id": "nrgccFIgAchq",
        "colab_type": "text"
      },
      "source": [
        "# Problemas de transporte y asignación\n",
        "\n",
        "En el presente módulo se buscan los sigueintes objetivos\n",
        "\n",
        "\n",
        "*   Identificar la estructura de los problemas de transporte y asignación\n",
        "*   Resolver los problemas aplicando el método simplex\n",
        "*   Aplicar métodos alternativos para resolver los problemas\n",
        "\n"
      ]
    },
    {
      "cell_type": "markdown",
      "metadata": {
        "id": "hndVXm7rAkKZ",
        "colab_type": "text"
      },
      "source": [
        "## Modelos matemáticos de transporte"
      ]
    },
    {
      "cell_type": "markdown",
      "metadata": {
        "id": "-uRu_-ZTAkE6",
        "colab_type": "text"
      },
      "source": [
        "En general, se puede espicificar con la siguiente información:\n",
        "\n",
        "\n",
        "1.   Existe un conjunto de $m$ puntos, los cuales se denominan suministros u orígenes, a partir de estos se envìa un bien. El punto de suministro $i$ abastece a lo sumo $a_i$ unidades.\n",
        "2.   Existe un conjunto de $n$ puntos, los cuales se denominan demanda o suminsitros, éstosreciben los bienes enviados desde $a_i$. El punto de demanda $j$ debe recibir por lo menos $b_i$ unidades.\n",
        "\n",
        "![texto alternativo](https://)\n",
        "\n"
      ]
    },
    {
      "cell_type": "code",
      "metadata": {
        "id": "kNiJRYX5B84L",
        "colab_type": "code",
        "colab": {}
      },
      "source": [
        ""
      ],
      "execution_count": 0,
      "outputs": []
    }
  ]
}